{
  "nbformat": 4,
  "nbformat_minor": 0,
  "metadata": {
    "colab": {
      "provenance": [],
      "authorship_tag": "ABX9TyMtvfb6K7gbscJ90H2Y7fld",
      "include_colab_link": true
    },
    "kernelspec": {
      "name": "python3",
      "display_name": "Python 3"
    },
    "language_info": {
      "name": "python"
    }
  },
  "cells": [
    {
      "cell_type": "markdown",
      "metadata": {
        "id": "view-in-github",
        "colab_type": "text"
      },
      "source": [
        "<a href=\"https://colab.research.google.com/github/joaooapolinario/reducao-imagens-redes-neurais/blob/main/reducao.ipynb\" target=\"_parent\"><img src=\"https://colab.research.google.com/assets/colab-badge.svg\" alt=\"Open In Colab\"/></a>"
      ]
    },
    {
      "cell_type": "code",
      "execution_count": 2,
      "metadata": {
        "colab": {
          "base_uri": "https://localhost:8080/"
        },
        "id": "NdtZuWmf_s4K",
        "outputId": "0f907ae3-86f8-42b1-e8a3-ae6c42ee86c0"
      },
      "outputs": [
        {
          "output_type": "stream",
          "name": "stdout",
          "text": [
            "Imagens geradas: saida_cinza.jpg e saida_binaria.jpg\n"
          ]
        }
      ],
      "source": [
        "import cv2\n",
        "\n",
        "imagem = cv2.imread(\"entrada.jpg\")\n",
        "\n",
        "imagem_cinza = cv2.cvtColor(imagem, cv2.COLOR_BGR2GRAY)\n",
        "\n",
        "_, imagem_binaria = cv2.threshold(imagem_cinza, 127, 255, cv2.THRESH_BINARY)\n",
        "\n",
        "cv2.imwrite(\"saida_cinza.jpg\", imagem_cinza)\n",
        "cv2.imwrite(\"saida_binaria.jpg\", imagem_binaria)\n",
        "\n",
        "print(\"Imagens geradas: saida_cinza.jpg e saida_binaria.jpg\")"
      ]
    }
  ]
}